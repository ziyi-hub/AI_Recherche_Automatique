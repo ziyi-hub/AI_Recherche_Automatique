{
 "cells": [
  {
   "cell_type": "markdown",
   "metadata": {},
   "source": [
    "## Recherche par similarité par histogrammes de couleur ##"
   ]
  },
  {
   "cell_type": "markdown",
   "metadata": {},
   "source": [
    "**TP1**: calcul de l'histogramme tridimensionnel RGB en 4x4x4 d'une image jpeg et comparaison par distance du Chi2 entre deux images.\n",
    "\n",
    "Pour le calcul de l'histogramme, il ne faut pas ultiliser la fonction de matplotlib (qui ne fonctionne que pour le cas monodimensionnel). Il faut parcourir les pixels de l'image et pour chacun, incrémenter la valeur de la case correspondante de l'histogramme.\n",
    "\n",
    "Récupérer une dizaine d'images JPEG, calculer les histogrammes pour toutes puis en choisir une comme image requête et classer les autres par similarité visuelle évaluée selon leurs histogrammes et la distance du Chi2. Afficher la requête et la liste de résultats. Normaliser les histogrammes (L1) et tester avec la même image à des tailles différentes.\n",
    "\n",
    "Affichage des histogrammes : il n'est pas nécessaire d'afficher les histogrammes pour ce TP, il est juste prévu de les comparer avec une distance Chi2. Si toutefois vous voulez les visualiser, la fonction plt.hist calcule l'histogramme avant de l'afficher. S'il est déjà calculé et qu'il n'y a plus qu'à l'afficher, la méthode suivante fonctionne :\n",
    "\n",
    "<code>plt.hist(range(0,64),64,weights=np.ravel(h))</code>"
   ]
  },
  {
   "cell_type": "code",
   "execution_count": 1,
   "metadata": {},
   "outputs": [],
   "source": [
    "import matplotlib.pyplot as plt\n",
    "import matplotlib.image as mpimg\n",
    "import numpy as np"
   ]
  },
  {
   "cell_type": "code",
   "execution_count": 2,
   "metadata": {},
   "outputs": [],
   "source": [
    "def calculate_rgb_histogram(image):\n",
    "    img = mpimg.imread(image)\n",
    "    img_array = np.array(img)\n",
    "    \n",
    "    # Normaliser les valeurs des pixels entre 0 et 3 (4 * 4 * 4)\n",
    "    img_array = img_array // 64\n",
    "    \n",
    "    # Initialiser l'histogramme à zéro\n",
    "    histogram = np.zeros((4, 4, 4))\n",
    "    \n",
    "    # Remplir l'histogramme en parcourant les pixels\n",
    "    for row in img_array:\n",
    "        \n",
    "        for pixel in row:\n",
    "            r, g, b = pixel\n",
    "            histogram[r, g, b] += 1\n",
    "    \n",
    "    # Normaliser l'histogramme (L1)\n",
    "    histogram /= np.sum(histogram)\n",
    "    \n",
    "    return histogram\n"
   ]
  },
  {
   "cell_type": "code",
   "execution_count": 3,
   "metadata": {},
   "outputs": [],
   "source": [
    "def chi_square_distance(hist1, hist2):\n",
    "    return np.sum(((hist1 - hist2) ** 2) / (hist1 + hist2 + 1e-10))"
   ]
  },
  {
   "cell_type": "code",
   "execution_count": 4,
   "metadata": {},
   "outputs": [],
   "source": [
    "# Liste d'images JPEG\n",
    "image_files = ['images/hacker1.jpeg', 'images/hacker2.jpeg', 'images/hacker3.jpeg', 'images/mask1.jpeg', 'images/mask2.jpeg']\n"
   ]
  },
  {
   "cell_type": "code",
   "execution_count": 5,
   "metadata": {},
   "outputs": [],
   "source": [
    "# Calculer l'histogramme pour chaque image\n",
    "histograms = [calculate_rgb_histogram(image) for image in image_files]\n"
   ]
  },
  {
   "cell_type": "code",
   "execution_count": 6,
   "metadata": {},
   "outputs": [],
   "source": [
    "# Image requête (choisir une parmi les images)\n",
    "query_image_index = 0"
   ]
  },
  {
   "cell_type": "code",
   "execution_count": 7,
   "metadata": {},
   "outputs": [],
   "source": [
    "query_histogram = histograms[query_image_index]"
   ]
  },
  {
   "cell_type": "code",
   "execution_count": 8,
   "metadata": {},
   "outputs": [],
   "source": [
    "# Calculer la distance du Chi2 avec toutes les autres images\n",
    "distances = [chi_square_distance(query_histogram, hist) for hist in histograms]"
   ]
  },
  {
   "cell_type": "code",
   "execution_count": 9,
   "metadata": {},
   "outputs": [],
   "source": [
    "sorted_indices = np.argsort(distances)"
   ]
  },
  {
   "cell_type": "code",
   "execution_count": 10,
   "metadata": {},
   "outputs": [
    {
     "name": "stdout",
     "output_type": "stream",
     "text": [
      "Image requête: images/hacker1.jpeg\n"
     ]
    }
   ],
   "source": [
    "# Afficher les résultats\n",
    "print(f\"Image requête: {image_files[query_image_index]}\")"
   ]
  },
  {
   "cell_type": "code",
   "execution_count": 11,
   "metadata": {},
   "outputs": [
    {
     "name": "stdout",
     "output_type": "stream",
     "text": [
      "Résultats:\n",
      "1. images/hacker1.jpeg - Distance du Chi2: 0.0\n",
      "2. images/hacker3.jpeg - Distance du Chi2: 0.12077057212773681\n",
      "3. images/hacker2.jpeg - Distance du Chi2: 0.46831978055262535\n",
      "4. images/mask2.jpeg - Distance du Chi2: 1.453641202872059\n",
      "5. images/mask1.jpeg - Distance du Chi2: 1.4995825762184447\n"
     ]
    }
   ],
   "source": [
    "print(\"Résultats:\")\n",
    "for i, index in enumerate(sorted_indices):\n",
    "    print(f\"{i + 1}. {image_files[index]} - Distance du Chi2: {distances[index]}\")\n"
   ]
  },
  {
   "cell_type": "markdown",
   "metadata": {},
   "source": [
    "Image requête: images/hacker1.jpeg\n",
    "\n",
    "Résultats:\n",
    "1. images/hacker1.jpeg - Distance du Chi2: 0.0\n",
    "2. images/hacker3.jpeg - Distance du Chi2: 0.12077057212773681\n",
    "3. images/hacker2.jpeg - Distance du Chi2: 0.46831978055262535\n",
    "4. images/mask2.jpeg - Distance du Chi2: 1.453641202872059\n",
    "5. images/mask1.jpeg - Distance du Chi2: 1.4995825762184447\n"
   ]
  },
  {
   "cell_type": "markdown",
   "metadata": {},
   "source": [
    "En observant les résultats de la distance du Chi2, on peut déduire plusieurs informations :\n",
    "\n",
    "1. **Image requête par elle-même:** La distance du Chi2 entre l'image requête \"images/hacker1.jpeg\" et elle-même est de 0.0, ce qui est attendu. Cela confirme que la distance entre une image et elle-même est nulle.\n",
    "\n",
    "2. **Images similaires:** Les images \"images/hacker1.jpeg\", \"images/hacker2.jpeg\" et \"images/hacker3.jpeg\" ont une distance du Chi2 très faible (0.12077057212773681), ce qui suggère une similarité élevée dans la distribution des couleurs entre ces deux images.\n",
    "\n",
    "3. **Images différentes :** Les images \"images/mask2.jpeg\" et \"images/mask1.jpeg\" ont les distances du Chi2 les plus élevées par rapport à l'image requête, indiquant qu'elles sont les moins similaires en termes de distribution des couleurs.\n",
    "\n",
    "En résumé, la distance du Chi2 fournit une mesure de la similarité entre les images en fonction de la distribution des couleurs. Des distances plus faibles indiquent une similarité plus élevée, tandis que des distances plus élevées indiquent une dissimilarité plus importante."
   ]
  },
  {
   "cell_type": "code",
   "execution_count": null,
   "metadata": {},
   "outputs": [],
   "source": []
  }
 ],
 "metadata": {
  "kernelspec": {
   "display_name": "Python 3 (ipykernel)",
   "language": "python",
   "name": "python3"
  },
  "language_info": {
   "codemirror_mode": {
    "name": "ipython",
    "version": 3
   },
   "file_extension": ".py",
   "mimetype": "text/x-python",
   "name": "python",
   "nbconvert_exporter": "python",
   "pygments_lexer": "ipython3",
   "version": "3.9.18"
  }
 },
 "nbformat": 4,
 "nbformat_minor": 4
}
