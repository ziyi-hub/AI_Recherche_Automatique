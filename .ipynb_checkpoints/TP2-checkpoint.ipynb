{
 "cells": [
  {
   "cell_type": "code",
   "execution_count": 12,
   "metadata": {},
   "outputs": [],
   "source": [
    "import matplotlib.pyplot as plt\n",
    "import matplotlib.image as mpimg\n",
    "import numpy as np"
   ]
  },
  {
   "cell_type": "code",
   "execution_count": 13,
   "metadata": {},
   "outputs": [],
   "source": [
    "def calculate_rgb_histogram(image):\n",
    "    img = mpimg.imread(image)\n",
    "    img_array = np.array(img)\n",
    "    \n",
    "    # Normaliser les valeurs des pixels entre 0 et 3 (4 * 4 * 4)\n",
    "    img_array = img_array // 64\n",
    "    \n",
    "    # Initialiser l'histogramme à zéro\n",
    "    histogram = np.zeros((4, 4, 4))\n",
    "    \n",
    "    # Remplir l'histogramme en parcourant les pixels\n",
    "    for row in img_array:\n",
    "        for pixel in row:\n",
    "            r, g, b = pixel\n",
    "            histogram[r, g, b] += 1\n",
    "    \n",
    "    # Normaliser l'histogramme (L1)\n",
    "    histogram /= np.sum(histogram)\n",
    "    \n",
    "    return histogram\n"
   ]
  },
  {
   "cell_type": "code",
   "execution_count": 14,
   "metadata": {},
   "outputs": [],
   "source": [
    "def chi_square_distance(hist1, hist2):\n",
    "    return np.sum(((hist1 - hist2) ** 2) / (hist1 + hist2 + 1e-10))"
   ]
  },
  {
   "cell_type": "code",
   "execution_count": 15,
   "metadata": {},
   "outputs": [],
   "source": [
    "# Liste d'images JPEG\n",
    "image_files = ['hacker1.jpeg', 'hacker2.jpeg', 'hacker3.jpeg', 'mask1.jpeg', 'mask2.jpeg']\n"
   ]
  },
  {
   "cell_type": "code",
   "execution_count": 16,
   "metadata": {},
   "outputs": [],
   "source": [
    "# Calculer l'histogramme pour chaque image\n",
    "histograms = [calculate_rgb_histogram(image) for image in image_files]\n"
   ]
  },
  {
   "cell_type": "code",
   "execution_count": 17,
   "metadata": {},
   "outputs": [],
   "source": [
    "# Image requête (choisir une parmi les images)\n",
    "query_image_index = 0"
   ]
  },
  {
   "cell_type": "code",
   "execution_count": 18,
   "metadata": {},
   "outputs": [],
   "source": [
    "query_histogram = histograms[query_image_index]"
   ]
  },
  {
   "cell_type": "code",
   "execution_count": 19,
   "metadata": {},
   "outputs": [
    {
     "name": "stderr",
     "output_type": "stream",
     "text": [
      "/var/folders/xs/nwx13vls6hv0prgj7jfzhfz00000gn/T/ipykernel_1157/537387629.py:3: RuntimeWarning: invalid value encountered in divide\n",
      "  return np.sum(((hist1 - hist2) ** 2) / (hist1 + hist2))\n"
     ]
    }
   ],
   "source": [
    "# Calculer la distance du Chi2 avec toutes les autres images\n",
    "distances = [chi_square_distance(query_histogram, hist) for hist in histograms]"
   ]
  },
  {
   "cell_type": "code",
   "execution_count": 20,
   "metadata": {},
   "outputs": [],
   "source": [
    "sorted_indices = np.argsort(distances)"
   ]
  },
  {
   "cell_type": "code",
   "execution_count": 21,
   "metadata": {},
   "outputs": [
    {
     "name": "stdout",
     "output_type": "stream",
     "text": [
      "Image requête: hacker1.jpeg\n"
     ]
    }
   ],
   "source": [
    "# Afficher les résultats\n",
    "print(f\"Image requête: {image_files[query_image_index]}\")"
   ]
  },
  {
   "cell_type": "code",
   "execution_count": 22,
   "metadata": {},
   "outputs": [
    {
     "name": "stdout",
     "output_type": "stream",
     "text": [
      "Résultats:\n",
      "1. hacker1.jpeg - Distance du Chi2: nan\n",
      "2. hacker2.jpeg - Distance du Chi2: nan\n",
      "3. hacker3.jpeg - Distance du Chi2: nan\n",
      "4. mask1.jpeg - Distance du Chi2: nan\n",
      "5. mask2.jpeg - Distance du Chi2: nan\n"
     ]
    }
   ],
   "source": [
    "print(\"Résultats:\")\n",
    "for i, index in enumerate(sorted_indices):\n",
    "    print(f\"{i + 1}. {image_files[index]} - Distance du Chi2: {distances[index]}\")\n"
   ]
  },
  {
   "cell_type": "code",
   "execution_count": null,
   "metadata": {},
   "outputs": [],
   "source": []
  },
  {
   "cell_type": "code",
   "execution_count": null,
   "metadata": {},
   "outputs": [],
   "source": []
  }
 ],
 "metadata": {
  "kernelspec": {
   "display_name": "Python 3 (ipykernel)",
   "language": "python",
   "name": "python3"
  },
  "language_info": {
   "codemirror_mode": {
    "name": "ipython",
    "version": 3
   },
   "file_extension": ".py",
   "mimetype": "text/x-python",
   "name": "python",
   "nbconvert_exporter": "python",
   "pygments_lexer": "ipython3",
   "version": "3.9.18"
  }
 },
 "nbformat": 4,
 "nbformat_minor": 4
}
